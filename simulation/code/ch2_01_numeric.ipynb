{
  "nbformat": 4,
  "nbformat_minor": 0,
  "metadata": {
    "colab": {
      "name": "ch2_01_numeric.ipynb",
      "provenance": [],
      "collapsed_sections": [],
      "include_colab_link": true
    },
    "kernelspec": {
      "name": "python3",
      "display_name": "Python 3"
    }
  },
  "cells": [
    {
      "cell_type": "markdown",
      "metadata": {
        "id": "view-in-github",
        "colab_type": "text"
      },
      "source": [
        "<a href=\"https://colab.research.google.com/github/Redwoods/Lec/blob/master/simulation/code/ch2_01_numeric.ipynb\" target=\"_parent\"><img src=\"https://colab.research.google.com/assets/colab-badge.svg\" alt=\"Open In Colab\"/></a>"
      ]
    },
    {
      "cell_type": "markdown",
      "metadata": {
        "id": "r7iqE3_yl3rP",
        "colab_type": "text"
      },
      "source": [
        "## 파이썬 데이터형: 숫자형"
      ]
    },
    {
      "cell_type": "code",
      "metadata": {
        "id": "RHGuyUqNlt-t",
        "colab_type": "code",
        "colab": {}
      },
      "source": [
        "# ch2_01_numeric.py\n",
        "#\n",
        "print(\"숫자형: 정수\")\n",
        "a = 123\n",
        "print(\"a = \",a)"
      ],
      "execution_count": 0,
      "outputs": []
    },
    {
      "cell_type": "code",
      "metadata": {
        "id": "2NWSnYZQmdgd",
        "colab_type": "code",
        "colab": {}
      },
      "source": [
        "a = -178\n",
        "b = 0\n",
        "a,b"
      ],
      "execution_count": 0,
      "outputs": []
    },
    {
      "cell_type": "code",
      "metadata": {
        "id": "Mkm2GYl5mKg-",
        "colab_type": "code",
        "colab": {}
      },
      "source": [
        "print(\"숫자형: 실수\")\n",
        "a = 1.2\n",
        "b = -3.48\n",
        "c = 4.24e10\n",
        "d = 4.24e-10\n",
        "\n",
        "print(a,b,c,d)\n",
        "print(a+b)"
      ],
      "execution_count": 0,
      "outputs": []
    },
    {
      "cell_type": "code",
      "metadata": {
        "id": "xeyM0iutmtvu",
        "colab_type": "code",
        "colab": {}
      },
      "source": [
        "print(\"숫자형: 8진수와 16진수\")\n",
        "a = 0o177\n",
        "print(\"0o177 = \", a)\n",
        "b = 0x8FF\n",
        "print(\"0x8FF = \", b)\n",
        "c = 0xABC\n",
        "print(\"0xABC = \", c)\n",
        "a,b,c"
      ],
      "execution_count": 0,
      "outputs": []
    },
    {
      "cell_type": "code",
      "metadata": {
        "id": "68C77xJNn5EG",
        "colab_type": "code",
        "colab": {}
      },
      "source": [
        "print(\"숫자형: 연산자와 연산\")\n",
        "a = 3\n",
        "b = 4\n",
        "\"a = {0}, b = {1}\".format(a,b)"
      ],
      "execution_count": 0,
      "outputs": []
    },
    {
      "cell_type": "code",
      "metadata": {
        "id": "Rxn1J1w3oMgN",
        "colab_type": "code",
        "colab": {}
      },
      "source": [
        "print(\"a + b, a -b, a * b, a / b\")\n",
        "\"a + b = {0}, a - b = {1}, a * b = {2}, a / b = {3}\".format(a + b, a -b, a * b, a / b)"
      ],
      "execution_count": 0,
      "outputs": []
    },
    {
      "cell_type": "code",
      "metadata": {
        "id": "vdAf1ss1oazd",
        "colab_type": "code",
        "colab": {}
      },
      "source": [
        "print(\"a ** b, a % b, a // b\")\n",
        "\"a ** b = {0}, a % b = {1}, a // b = {2}\".format(a ** b, a % b, a // b)"
      ],
      "execution_count": 0,
      "outputs": []
    },
    {
      "cell_type": "code",
      "metadata": {
        "id": "m-KI3eXRda3C",
        "colab_type": "code",
        "colab": {}
      },
      "source": [
        "# f 문자열 포매팅 #\n",
        "f\"a ** b = {a ** b}, a % b = {a % b}, a // b = {a // b}\" "
      ],
      "execution_count": 0,
      "outputs": []
    },
    {
      "cell_type": "code",
      "metadata": {
        "id": "H-ytwdOSpFn9",
        "colab_type": "code",
        "colab": {}
      },
      "source": [
        "# 몫과 나머지\n",
        "f\"14 // 3 = {14//3}, 14 % 3 = {14%3}\""
      ],
      "execution_count": 0,
      "outputs": []
    },
    {
      "cell_type": "code",
      "metadata": {
        "id": "rLZwou70edeJ",
        "colab_type": "code",
        "colab": {}
      },
      "source": [
        "# ch2_p1_numeric.ipynb"
      ],
      "execution_count": 0,
      "outputs": []
    }
  ]
}