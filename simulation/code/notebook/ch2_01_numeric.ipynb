{
  "nbformat": 4,
  "nbformat_minor": 0,
  "metadata": {
    "colab": {
      "name": "ch2_01_numeric.ipynb",
      "provenance": [],
      "collapsed_sections": [],
      "toc_visible": true,
      "include_colab_link": true
    },
    "kernelspec": {
      "name": "python3",
      "display_name": "Python 3"
    }
  },
  "cells": [
    {
      "cell_type": "markdown",
      "metadata": {
        "id": "view-in-github",
        "colab_type": "text"
      },
      "source": [
        "<a href=\"https://colab.research.google.com/github/Redwoods/Py/blob/master/py2019/Lec/notebook/ch2_01_numeric.ipynb\" target=\"_parent\"><img src=\"https://colab.research.google.com/assets/colab-badge.svg\" alt=\"Open In Colab\"/></a>"
      ]
    },
    {
      "cell_type": "markdown",
      "metadata": {
        "id": "r7iqE3_yl3rP",
        "colab_type": "text"
      },
      "source": [
        "## 파이썬 데이터형: 숫자형\n",
        "### ch2_01_numeric.py"
      ]
    },
    {
      "cell_type": "code",
      "metadata": {
        "id": "RHGuyUqNlt-t",
        "colab_type": "code",
        "outputId": "3f1cdad4-90e1-47b7-b22c-df510d929682",
        "colab": {
          "base_uri": "https://localhost:8080/",
          "height": 53
        }
      },
      "source": [
        "# ch2_01_numeric.py\n",
        "#\n",
        "print(\"숫자형: 정수\")\n",
        "a = 123\n",
        "print(\"a = \",a)"
      ],
      "execution_count": 0,
      "outputs": [
        {
          "output_type": "stream",
          "text": [
            "숫자형: 정수\n",
            "a =  123\n"
          ],
          "name": "stdout"
        }
      ]
    },
    {
      "cell_type": "code",
      "metadata": {
        "id": "2NWSnYZQmdgd",
        "colab_type": "code",
        "outputId": "97274745-4218-43c1-827b-5efedb2e5584",
        "colab": {
          "base_uri": "https://localhost:8080/",
          "height": 35
        }
      },
      "source": [
        "a = -178\n",
        "b = 0\n",
        "a,b"
      ],
      "execution_count": 0,
      "outputs": [
        {
          "output_type": "execute_result",
          "data": {
            "text/plain": [
              "(-178, 0)"
            ]
          },
          "metadata": {
            "tags": []
          },
          "execution_count": 2
        }
      ]
    },
    {
      "cell_type": "code",
      "metadata": {
        "id": "Mkm2GYl5mKg-",
        "colab_type": "code",
        "outputId": "4d6f676d-87a6-4998-ff5c-290f477ff69f",
        "colab": {
          "base_uri": "https://localhost:8080/",
          "height": 71
        }
      },
      "source": [
        "print(\"숫자형: 실수\")\n",
        "a = 1.2\n",
        "b = -3.48\n",
        "c = 4.24e10\n",
        "d = 4.24e-10\n",
        "\n",
        "print(a,b,c,d)\n",
        "print(a+b)"
      ],
      "execution_count": 0,
      "outputs": [
        {
          "output_type": "stream",
          "text": [
            "숫자형: 실수\n",
            "1.2 -3.48 42400000000.0 4.24e-10\n",
            "-2.2800000000000002\n"
          ],
          "name": "stdout"
        }
      ]
    },
    {
      "cell_type": "code",
      "metadata": {
        "id": "xeyM0iutmtvu",
        "colab_type": "code",
        "outputId": "7f786559-769f-48b9-e2e4-449e331a30fb",
        "colab": {
          "base_uri": "https://localhost:8080/",
          "height": 108
        }
      },
      "source": [
        "print(\"숫자형: 8진수와 16진수\")\n",
        "a = 0o177\n",
        "print(\"0o177 = \", a)\n",
        "b = 0x8FF\n",
        "print(\"0x8FF = \", b)\n",
        "c = 0xABC\n",
        "print(\"0xABC = \", c)\n",
        "a,b,c"
      ],
      "execution_count": 0,
      "outputs": [
        {
          "output_type": "stream",
          "text": [
            "숫자형: 8진수와 16진수\n",
            "0o177 =  127\n",
            "0x8FF =  2303\n",
            "0xABC =  2748\n"
          ],
          "name": "stdout"
        },
        {
          "output_type": "execute_result",
          "data": {
            "text/plain": [
              "(127, 2303, 2748)"
            ]
          },
          "metadata": {
            "tags": []
          },
          "execution_count": 4
        }
      ]
    },
    {
      "cell_type": "code",
      "metadata": {
        "id": "68C77xJNn5EG",
        "colab_type": "code",
        "outputId": "7e4aab60-2346-4466-c89c-4782ead981a0",
        "colab": {
          "base_uri": "https://localhost:8080/",
          "height": 53
        }
      },
      "source": [
        "print(\"숫자형: 연산자와 연산\")\n",
        "a = 3\n",
        "b = 4\n",
        "\"a = {0}, b = {1}\".format(a,b)"
      ],
      "execution_count": 0,
      "outputs": [
        {
          "output_type": "stream",
          "text": [
            "숫자형: 연산자와 연산\n"
          ],
          "name": "stdout"
        },
        {
          "output_type": "execute_result",
          "data": {
            "text/plain": [
              "'a = 3, b = 4'"
            ]
          },
          "metadata": {
            "tags": []
          },
          "execution_count": 5
        }
      ]
    },
    {
      "cell_type": "code",
      "metadata": {
        "id": "Rxn1J1w3oMgN",
        "colab_type": "code",
        "outputId": "d869575c-ed7b-414c-f546-25d35f60ff76",
        "colab": {
          "base_uri": "https://localhost:8080/",
          "height": 53
        }
      },
      "source": [
        "print(\"a + b, a -b, a * b, a / b\")\n",
        "\"a + b = {0}, a - b = {1}, a * b = {2}, a / b = {3}\".format(a + b, a -b, a * b, a / b)"
      ],
      "execution_count": 0,
      "outputs": [
        {
          "output_type": "stream",
          "text": [
            "a + b, a -b, a * b, a / b\n"
          ],
          "name": "stdout"
        },
        {
          "output_type": "execute_result",
          "data": {
            "text/plain": [
              "'a + b = 7, a - b = -1, a * b = 12, a / b = 0.75'"
            ]
          },
          "metadata": {
            "tags": []
          },
          "execution_count": 6
        }
      ]
    },
    {
      "cell_type": "code",
      "metadata": {
        "id": "vdAf1ss1oazd",
        "colab_type": "code",
        "outputId": "6aada9bf-b68e-473a-ea16-e42e59b1883a",
        "colab": {
          "base_uri": "https://localhost:8080/",
          "height": 53
        }
      },
      "source": [
        "print(\"a ** b, a % b, a // b\")\n",
        "\"a ** b = {0}, a % b = {1}, a // b = {2}\".format(a ** b, a % b, a // b)"
      ],
      "execution_count": 0,
      "outputs": [
        {
          "output_type": "stream",
          "text": [
            "a ** b, a % b, a // b\n"
          ],
          "name": "stdout"
        },
        {
          "output_type": "execute_result",
          "data": {
            "text/plain": [
              "'a ** b = 81, a % b = 3, a // b = 0'"
            ]
          },
          "metadata": {
            "tags": []
          },
          "execution_count": 7
        }
      ]
    },
    {
      "cell_type": "code",
      "metadata": {
        "id": "m-KI3eXRda3C",
        "colab_type": "code",
        "outputId": "2bd95d10-e7a8-4b33-9e07-bd7c7eb6cd68",
        "colab": {
          "base_uri": "https://localhost:8080/",
          "height": 35
        }
      },
      "source": [
        "# f 문자열 포매팅 #\n",
        "f\"a ** b = {a ** b}, a % b = {a % b}, a // b = {a // b}\" "
      ],
      "execution_count": 0,
      "outputs": [
        {
          "output_type": "execute_result",
          "data": {
            "text/plain": [
              "'a ** b = 81, a % b = 3, a // b = 0'"
            ]
          },
          "metadata": {
            "tags": []
          },
          "execution_count": 8
        }
      ]
    },
    {
      "cell_type": "code",
      "metadata": {
        "id": "H-ytwdOSpFn9",
        "colab_type": "code",
        "outputId": "227af780-4650-495f-b35f-c5ac85f05b75",
        "colab": {
          "base_uri": "https://localhost:8080/",
          "height": 35
        }
      },
      "source": [
        "# 몫과 나머지\n",
        "f\"14 // 3 = {14//3}, 14 % 3 = {14%3}\""
      ],
      "execution_count": 0,
      "outputs": [
        {
          "output_type": "execute_result",
          "data": {
            "text/plain": [
              "'14 // 3 = 4, 14 % 3 = 2'"
            ]
          },
          "metadata": {
            "tags": []
          },
          "execution_count": 9
        }
      ]
    },
    {
      "cell_type": "code",
      "metadata": {
        "id": "rLZwou70edeJ",
        "colab_type": "code",
        "colab": {}
      },
      "source": [
        "# ch2_p1_numeric.ipynb"
      ],
      "execution_count": 0,
      "outputs": []
    }
  ]
}