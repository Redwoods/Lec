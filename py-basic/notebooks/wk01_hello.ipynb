{
  "nbformat": 4,
  "nbformat_minor": 0,
  "metadata": {
    "colab": {
      "name": "wk01_hello.ipynb",
      "version": "0.3.2",
      "provenance": [],
      "toc_visible": true,
      "include_colab_link": true
    },
    "kernelspec": {
      "name": "python3",
      "display_name": "Python 3"
    }
  },
  "cells": [
    {
      "cell_type": "markdown",
      "metadata": {
        "id": "view-in-github",
        "colab_type": "text"
      },
      "source": [
        "[View in Colaboratory](https://colab.research.google.com/github/Redwoods/Lec/blob/master/py-basic/notebooks/wk01_hello.ipynb)"
      ]
    },
    {
      "metadata": {
        "id": "5i29_wNHVyjy",
        "colab_type": "text"
      },
      "cell_type": "markdown",
      "source": [
        "# wk01\n",
        "## Hello python"
      ]
    },
    {
      "metadata": {
        "id": "wASNwnE-zjwu",
        "colab_type": "text"
      },
      "cell_type": "markdown",
      "source": [
        "### print()를 이용한 출력"
      ]
    },
    {
      "metadata": {
        "id": "lfiMmCyZWIKZ",
        "colab_type": "code",
        "colab": {
          "base_uri": "https://localhost:8080/",
          "height": 34
        },
        "outputId": "f2ef3dfc-f65a-4837-d734-ce6477a1b819"
      },
      "cell_type": "code",
      "source": [
        "print('Hello python!!!')"
      ],
      "execution_count": 0,
      "outputs": [
        {
          "output_type": "stream",
          "text": [
            "Hello python!!!\n"
          ],
          "name": "stdout"
        }
      ]
    },
    {
      "metadata": {
        "id": "MJts3iE2rxky",
        "colab_type": "code",
        "colab": {
          "base_uri": "https://localhost:8080/",
          "height": 34
        },
        "outputId": "3d27b8fa-74b2-40f7-aa3e-0bb5582b0e56"
      },
      "cell_type": "code",
      "source": [
        "print('한글 출력 OK')"
      ],
      "execution_count": 0,
      "outputs": [
        {
          "output_type": "stream",
          "text": [
            "한글 출력 OK\n"
          ],
          "name": "stdout"
        }
      ]
    },
    {
      "metadata": {
        "id": "qX2u3p4Wzx0U",
        "colab_type": "text"
      },
      "cell_type": "markdown",
      "source": [
        "### 간단한 연산"
      ]
    },
    {
      "metadata": {
        "id": "17Yv-nkzU5DC",
        "colab_type": "code",
        "colab": {
          "base_uri": "https://localhost:8080/",
          "height": 34
        },
        "outputId": "0f0fb76f-f995-49f6-a2c0-a5290111bbc3"
      },
      "cell_type": "code",
      "source": [
        "2 + 9"
      ],
      "execution_count": 0,
      "outputs": [
        {
          "output_type": "execute_result",
          "data": {
            "text/plain": [
              "11"
            ]
          },
          "metadata": {
            "tags": []
          },
          "execution_count": 2
        }
      ]
    },
    {
      "metadata": {
        "id": "o-OLvDSVTzYZ",
        "colab_type": "code",
        "colab": {}
      },
      "cell_type": "code",
      "source": [
        "a=3\n",
        "b=4\n",
        "c=a+b"
      ],
      "execution_count": 0,
      "outputs": []
    },
    {
      "metadata": {
        "id": "bhsnhmjAT5H7",
        "colab_type": "code",
        "colab": {
          "base_uri": "https://localhost:8080/",
          "height": 34
        },
        "outputId": "ed68129f-1f68-4a74-b4b7-819626bdb357"
      },
      "cell_type": "code",
      "source": [
        "print(c)"
      ],
      "execution_count": 0,
      "outputs": [
        {
          "output_type": "stream",
          "text": [
            "7\n"
          ],
          "name": "stdout"
        }
      ]
    },
    {
      "metadata": {
        "id": "Rh8muoPAz3pl",
        "colab_type": "text"
      },
      "cell_type": "markdown",
      "source": [
        "### 지수 연산\n",
        "\n",
        "---\n",
        "\n"
      ]
    },
    {
      "metadata": {
        "id": "yIzQ8DI3N4KM",
        "colab_type": "code",
        "colab": {
          "base_uri": "https://localhost:8080/",
          "height": 34
        },
        "outputId": "de5e06c3-fadb-4a86-dc33-e3ed1f6cc1d0"
      },
      "cell_type": "code",
      "source": [
        "2**3"
      ],
      "execution_count": 0,
      "outputs": [
        {
          "output_type": "execute_result",
          "data": {
            "text/plain": [
              "8"
            ]
          },
          "metadata": {
            "tags": []
          },
          "execution_count": 1
        }
      ]
    },
    {
      "metadata": {
        "id": "OSz29Swh0Cic",
        "colab_type": "text"
      },
      "cell_type": "markdown",
      "source": [
        "### ^ 연산은 무엇?"
      ]
    },
    {
      "metadata": {
        "id": "rreI9wxvPP0S",
        "colab_type": "code",
        "colab": {
          "base_uri": "https://localhost:8080/",
          "height": 34
        },
        "outputId": "ff84c19e-ece3-4a48-e51a-cd32afcb1bf2"
      },
      "cell_type": "code",
      "source": [
        "2^1"
      ],
      "execution_count": 0,
      "outputs": [
        {
          "output_type": "execute_result",
          "data": {
            "text/plain": [
              "3"
            ]
          },
          "metadata": {
            "tags": []
          },
          "execution_count": 13
        }
      ]
    },
    {
      "metadata": {
        "id": "ppQOxcloOo2B",
        "colab_type": "code",
        "colab": {
          "base_uri": "https://localhost:8080/",
          "height": 34
        },
        "outputId": "24d2c6af-5447-4874-8713-b0197d4182f4"
      },
      "cell_type": "code",
      "source": [
        "2^2"
      ],
      "execution_count": 0,
      "outputs": [
        {
          "output_type": "execute_result",
          "data": {
            "text/plain": [
              "0"
            ]
          },
          "metadata": {
            "tags": []
          },
          "execution_count": 14
        }
      ]
    },
    {
      "metadata": {
        "id": "i2QNl99yr9TT",
        "colab_type": "code",
        "colab": {
          "base_uri": "https://localhost:8080/",
          "height": 34
        },
        "outputId": "79a2b80b-f931-48ce-873b-931a84ecbf2a"
      },
      "cell_type": "code",
      "source": [
        "2^3"
      ],
      "execution_count": 0,
      "outputs": [
        {
          "output_type": "execute_result",
          "data": {
            "text/plain": [
              "1"
            ]
          },
          "metadata": {
            "tags": []
          },
          "execution_count": 15
        }
      ]
    },
    {
      "metadata": {
        "id": "HFTI7gzor-kr",
        "colab_type": "code",
        "colab": {
          "base_uri": "https://localhost:8080/",
          "height": 34
        },
        "outputId": "f85c2b17-8f60-40ac-8e37-a75bdd51ba9a"
      },
      "cell_type": "code",
      "source": [
        "2^4"
      ],
      "execution_count": 0,
      "outputs": [
        {
          "output_type": "execute_result",
          "data": {
            "text/plain": [
              "6"
            ]
          },
          "metadata": {
            "tags": []
          },
          "execution_count": 16
        }
      ]
    },
    {
      "metadata": {
        "id": "uEwdKtd3sADr",
        "colab_type": "code",
        "colab": {
          "base_uri": "https://localhost:8080/",
          "height": 34
        },
        "outputId": "39d516c4-c513-4cae-8f7d-3ec30557a722"
      },
      "cell_type": "code",
      "source": [
        "2^1,2^2,2^3,2^4"
      ],
      "execution_count": 0,
      "outputs": [
        {
          "output_type": "execute_result",
          "data": {
            "text/plain": [
              "(3, 0, 1, 6)"
            ]
          },
          "metadata": {
            "tags": []
          },
          "execution_count": 17
        }
      ]
    },
    {
      "metadata": {
        "id": "4Xi14LRqsDVr",
        "colab_type": "code",
        "colab": {}
      },
      "cell_type": "code",
      "source": [
        ""
      ],
      "execution_count": 0,
      "outputs": []
    }
  ]
}