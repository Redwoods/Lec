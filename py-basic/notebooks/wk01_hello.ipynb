{
  "nbformat": 4,
  "nbformat_minor": 0,
  "metadata": {
    "colab": {
      "name": "wk01_hello.ipynb",
      "version": "0.3.2",
      "provenance": [],
      "toc_visible": true,
      "include_colab_link": true
    },
    "kernelspec": {
      "name": "python3",
      "display_name": "Python 3"
    }
  },
  "cells": [
    {
      "cell_type": "markdown",
      "metadata": {
        "id": "view-in-github",
        "colab_type": "text"
      },
      "source": [
        "[View in Colaboratory](https://colab.research.google.com/github/Redwoods/Lec/blob/master/py-basic/notebooks/wk01_hello.ipynb)"
      ]
    },
    {
      "metadata": {
        "id": "5i29_wNHVyjy",
        "colab_type": "text"
      },
      "cell_type": "markdown",
      "source": [
        "# wk01\n",
        "## Hello python"
      ]
    },
    {
      "metadata": {
        "id": "Qm5cjQb5-obM",
        "colab_type": "toc"
      },
      "cell_type": "markdown",
      "source": [
        ">[wk01](#scrollTo=5i29_wNHVyjy)\n",
        "\n",
        ">>[Hello python](#scrollTo=5i29_wNHVyjy)\n",
        "\n",
        ">>>[print()를 이용한 출력](#scrollTo=wASNwnE-zjwu)\n",
        "\n",
        ">>>[간단한 연산](#scrollTo=qX2u3p4Wzx0U)\n",
        "\n",
        ">>>[지수 연산](#scrollTo=Rh8muoPAz3pl)\n",
        "\n",
        ">>>[^ 연산은 무엇?](#scrollTo=OSz29Swh0Cic)\n",
        "\n",
        ">>[python module (library)](#scrollTo=B_sN9AUPBsEW)\n",
        "\n",
        ">>>[numpy](#scrollTo=B_sN9AUPBsEW)\n",
        "\n",
        ">>[python graphics](#scrollTo=pvoM3TcjD2WG)\n",
        "\n",
        ">>>[matplotlib](#scrollTo=pvoM3TcjD2WG)\n",
        "\n"
      ]
    },
    {
      "metadata": {
        "id": "wASNwnE-zjwu",
        "colab_type": "text"
      },
      "cell_type": "markdown",
      "source": [
        "### print()를 이용한 출력"
      ]
    },
    {
      "metadata": {
        "id": "lfiMmCyZWIKZ",
        "colab_type": "code",
        "colab": {
          "base_uri": "https://localhost:8080/",
          "height": 34
        },
        "outputId": "f2ef3dfc-f65a-4837-d734-ce6477a1b819"
      },
      "cell_type": "code",
      "source": [
        "print('Hello python!!!')"
      ],
      "execution_count": 0,
      "outputs": [
        {
          "output_type": "stream",
          "text": [
            "Hello python!!!\n"
          ],
          "name": "stdout"
        }
      ]
    },
    {
      "metadata": {
        "id": "MJts3iE2rxky",
        "colab_type": "code",
        "colab": {
          "base_uri": "https://localhost:8080/",
          "height": 34
        },
        "outputId": "3d27b8fa-74b2-40f7-aa3e-0bb5582b0e56"
      },
      "cell_type": "code",
      "source": [
        "print('한글 출력 OK')"
      ],
      "execution_count": 0,
      "outputs": [
        {
          "output_type": "stream",
          "text": [
            "한글 출력 OK\n"
          ],
          "name": "stdout"
        }
      ]
    },
    {
      "metadata": {
        "id": "qX2u3p4Wzx0U",
        "colab_type": "text"
      },
      "cell_type": "markdown",
      "source": [
        "### 간단한 연산"
      ]
    },
    {
      "metadata": {
        "id": "17Yv-nkzU5DC",
        "colab_type": "code",
        "colab": {
          "base_uri": "https://localhost:8080/",
          "height": 34
        },
        "outputId": "0f0fb76f-f995-49f6-a2c0-a5290111bbc3"
      },
      "cell_type": "code",
      "source": [
        "2 + 9"
      ],
      "execution_count": 0,
      "outputs": [
        {
          "output_type": "execute_result",
          "data": {
            "text/plain": [
              "11"
            ]
          },
          "metadata": {
            "tags": []
          },
          "execution_count": 2
        }
      ]
    },
    {
      "metadata": {
        "id": "o-OLvDSVTzYZ",
        "colab_type": "code",
        "colab": {}
      },
      "cell_type": "code",
      "source": [
        "a=3\n",
        "b=4\n",
        "c=a+b"
      ],
      "execution_count": 0,
      "outputs": []
    },
    {
      "metadata": {
        "id": "bhsnhmjAT5H7",
        "colab_type": "code",
        "colab": {
          "base_uri": "https://localhost:8080/",
          "height": 34
        },
        "outputId": "ed68129f-1f68-4a74-b4b7-819626bdb357"
      },
      "cell_type": "code",
      "source": [
        "print(c)"
      ],
      "execution_count": 0,
      "outputs": [
        {
          "output_type": "stream",
          "text": [
            "7\n"
          ],
          "name": "stdout"
        }
      ]
    },
    {
      "metadata": {
        "id": "Rh8muoPAz3pl",
        "colab_type": "text"
      },
      "cell_type": "markdown",
      "source": [
        "### 지수 연산\n",
        "\n",
        "---\n",
        "\n"
      ]
    },
    {
      "metadata": {
        "id": "yIzQ8DI3N4KM",
        "colab_type": "code",
        "colab": {
          "base_uri": "https://localhost:8080/",
          "height": 34
        },
        "outputId": "de5e06c3-fadb-4a86-dc33-e3ed1f6cc1d0"
      },
      "cell_type": "code",
      "source": [
        "2**3"
      ],
      "execution_count": 0,
      "outputs": [
        {
          "output_type": "execute_result",
          "data": {
            "text/plain": [
              "8"
            ]
          },
          "metadata": {
            "tags": []
          },
          "execution_count": 1
        }
      ]
    },
    {
      "metadata": {
        "id": "OSz29Swh0Cic",
        "colab_type": "text"
      },
      "cell_type": "markdown",
      "source": [
        "### ^ 연산은 무엇?"
      ]
    },
    {
      "metadata": {
        "id": "rreI9wxvPP0S",
        "colab_type": "code",
        "colab": {
          "base_uri": "https://localhost:8080/",
          "height": 34
        },
        "outputId": "ff84c19e-ece3-4a48-e51a-cd32afcb1bf2"
      },
      "cell_type": "code",
      "source": [
        "2^1"
      ],
      "execution_count": 0,
      "outputs": [
        {
          "output_type": "execute_result",
          "data": {
            "text/plain": [
              "3"
            ]
          },
          "metadata": {
            "tags": []
          },
          "execution_count": 13
        }
      ]
    },
    {
      "metadata": {
        "id": "ppQOxcloOo2B",
        "colab_type": "code",
        "colab": {
          "base_uri": "https://localhost:8080/",
          "height": 34
        },
        "outputId": "24d2c6af-5447-4874-8713-b0197d4182f4"
      },
      "cell_type": "code",
      "source": [
        "2^2"
      ],
      "execution_count": 0,
      "outputs": [
        {
          "output_type": "execute_result",
          "data": {
            "text/plain": [
              "0"
            ]
          },
          "metadata": {
            "tags": []
          },
          "execution_count": 14
        }
      ]
    },
    {
      "metadata": {
        "id": "i2QNl99yr9TT",
        "colab_type": "code",
        "colab": {
          "base_uri": "https://localhost:8080/",
          "height": 34
        },
        "outputId": "79a2b80b-f931-48ce-873b-931a84ecbf2a"
      },
      "cell_type": "code",
      "source": [
        "2^3"
      ],
      "execution_count": 0,
      "outputs": [
        {
          "output_type": "execute_result",
          "data": {
            "text/plain": [
              "1"
            ]
          },
          "metadata": {
            "tags": []
          },
          "execution_count": 15
        }
      ]
    },
    {
      "metadata": {
        "id": "HFTI7gzor-kr",
        "colab_type": "code",
        "colab": {
          "base_uri": "https://localhost:8080/",
          "height": 34
        },
        "outputId": "f85c2b17-8f60-40ac-8e37-a75bdd51ba9a"
      },
      "cell_type": "code",
      "source": [
        "2^4"
      ],
      "execution_count": 0,
      "outputs": [
        {
          "output_type": "execute_result",
          "data": {
            "text/plain": [
              "6"
            ]
          },
          "metadata": {
            "tags": []
          },
          "execution_count": 16
        }
      ]
    },
    {
      "metadata": {
        "id": "uEwdKtd3sADr",
        "colab_type": "code",
        "colab": {
          "base_uri": "https://localhost:8080/",
          "height": 34
        },
        "outputId": "39d516c4-c513-4cae-8f7d-3ec30557a722"
      },
      "cell_type": "code",
      "source": [
        "2^1,2^2,2^3,2^4"
      ],
      "execution_count": 0,
      "outputs": [
        {
          "output_type": "execute_result",
          "data": {
            "text/plain": [
              "(3, 0, 1, 6)"
            ]
          },
          "metadata": {
            "tags": []
          },
          "execution_count": 17
        }
      ]
    },
    {
      "metadata": {
        "id": "B_sN9AUPBsEW",
        "colab_type": "text"
      },
      "cell_type": "markdown",
      "source": [
        "## python module (library)\n",
        "### numpy"
      ]
    },
    {
      "metadata": {
        "id": "4Xi14LRqsDVr",
        "colab_type": "code",
        "colab": {}
      },
      "cell_type": "code",
      "source": [
        "import numpy as np"
      ],
      "execution_count": 0,
      "outputs": []
    },
    {
      "metadata": {
        "id": "K8XYgKmnC_AX",
        "colab_type": "code",
        "colab": {
          "base_uri": "https://localhost:8080/",
          "height": 34
        },
        "outputId": "8c5c4557-3886-4c14-d526-d75ec2dd14ee"
      },
      "cell_type": "code",
      "source": [
        "np.arange(1,11)"
      ],
      "execution_count": 2,
      "outputs": [
        {
          "output_type": "execute_result",
          "data": {
            "text/plain": [
              "array([ 1,  2,  3,  4,  5,  6,  7,  8,  9, 10])"
            ]
          },
          "metadata": {
            "tags": []
          },
          "execution_count": 2
        }
      ]
    },
    {
      "metadata": {
        "id": "pfvhG67ZDIDE",
        "colab_type": "code",
        "colab": {
          "base_uri": "https://localhost:8080/",
          "height": 34
        },
        "outputId": "d1c8268e-65b2-4cdb-e81c-6ab235d2ecd3"
      },
      "cell_type": "code",
      "source": [
        "np.arange(1,11)[0]\n",
        "np.arange(1,11)[1]"
      ],
      "execution_count": 4,
      "outputs": [
        {
          "output_type": "execute_result",
          "data": {
            "text/plain": [
              "2"
            ]
          },
          "metadata": {
            "tags": []
          },
          "execution_count": 4
        }
      ]
    },
    {
      "metadata": {
        "id": "Mmq83bPIDM80",
        "colab_type": "code",
        "colab": {
          "base_uri": "https://localhost:8080/",
          "height": 34
        },
        "outputId": "214c1a2f-2cb8-442a-94cf-868ca01daa51"
      },
      "cell_type": "code",
      "source": [
        "np.arange(1,11)[0],np.arange(1,11)[1]"
      ],
      "execution_count": 5,
      "outputs": [
        {
          "output_type": "execute_result",
          "data": {
            "text/plain": [
              "(1, 2)"
            ]
          },
          "metadata": {
            "tags": []
          },
          "execution_count": 5
        }
      ]
    },
    {
      "metadata": {
        "id": "pvoM3TcjD2WG",
        "colab_type": "text"
      },
      "cell_type": "markdown",
      "source": [
        "## python graphics\n",
        "### matplotlib"
      ]
    },
    {
      "metadata": {
        "id": "HSg7UnczDSqV",
        "colab_type": "code",
        "colab": {}
      },
      "cell_type": "code",
      "source": [
        "import matplotlib.pyplot as plt"
      ],
      "execution_count": 0,
      "outputs": []
    },
    {
      "metadata": {
        "id": "rXKY1tbqEEB8",
        "colab_type": "code",
        "colab": {
          "base_uri": "https://localhost:8080/",
          "height": 364
        },
        "outputId": "6d185259-f055-4c38-c3d7-f84ed586506d"
      },
      "cell_type": "code",
      "source": [
        "plt.plot(np.arange(1,11))"
      ],
      "execution_count": 11,
      "outputs": [
        {
          "output_type": "execute_result",
          "data": {
            "text/plain": [
              "[<matplotlib.lines.Line2D at 0x7ff4007f2c88>]"
            ]
          },
          "metadata": {
            "tags": []
          },
          "execution_count": 11
        },
        {
          "output_type": "display_data",
          "data": {
            "image/png": "[encoded data removed]",
            "text/plain": [
              "<matplotlib.figure.Figure at 0x7ff40282ab00>"
            ]
          },
          "metadata": {
            "tags": []
          }
        }
      ]
    },
    {
      "metadata": {
        "id": "XR27b1ckEMUU",
        "colab_type": "code",
        "colab": {
          "base_uri": "https://localhost:8080/",
          "height": 364
        },
        "outputId": "797edd96-a55f-4c7b-fff1-fc6525279b33"
      },
      "cell_type": "code",
      "source": [
        "plt.plot(np.sin(2*np.pi*np.arange(0,101)/20))"
      ],
      "execution_count": 15,
      "outputs": [
        {
          "output_type": "execute_result",
          "data": {
            "text/plain": [
              "[<matplotlib.lines.Line2D at 0x7ff400638a90>]"
            ]
          },
          "metadata": {
            "tags": []
          },
          "execution_count": 15
        },
        {
          "output_type": "display_data",
          "data": {
            "image/png": "[encoded data removed]",
            "text/plain": [
              "<matplotlib.figure.Figure at 0x7ff40067e8d0>"
            ]
          },
          "metadata": {
            "tags": []
          }
        }
      ]
    },
    {
      "metadata": {
        "id": "L-7Sqqu1FID9",
        "colab_type": "code",
        "colab": {
          "base_uri": "https://localhost:8080/",
          "height": 364
        },
        "outputId": "061ec2ff-9fa5-4813-869b-7b01d1cb39d2"
      },
      "cell_type": "code",
      "source": [
        "plt.plot(np.cos(2*np.pi*np.arange(0,101)/20))"
      ],
      "execution_count": 16,
      "outputs": [
        {
          "output_type": "execute_result",
          "data": {
            "text/plain": [
              "[<matplotlib.lines.Line2D at 0x7ff4005a4048>]"
            ]
          },
          "metadata": {
            "tags": []
          },
          "execution_count": 16
        },
        {
          "output_type": "display_data",
          "data": {
            "image/png": "[encoded data removed]",
            "text/plain": [
              "<matplotlib.figure.Figure at 0x7ff400621748>"
            ]
          },
          "metadata": {
            "tags": []
          }
        }
      ]
    },
    {
      "metadata": {
        "id": "3yPC-djdFduc",
        "colab_type": "code",
        "colab": {}
      },
      "cell_type": "code",
      "source": [
        ""
      ],
      "execution_count": 0,
      "outputs": []
    }
  ]
}