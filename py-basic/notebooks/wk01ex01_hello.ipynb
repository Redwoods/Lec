{
  "nbformat": 4,
  "nbformat_minor": 0,
  "metadata": {
    "colab": {
      "name": "wk01_hello.ipynb",
      "version": "0.3.2",
      "views": {},
      "default_view": {},
      "provenance": [],
      "toc_visible": true
    },
    "kernelspec": {
      "name": "python3",
      "display_name": "Python 3"
    }
  },
  "cells": [
    {
      "metadata": {
        "id": "5i29_wNHVyjy",
        "colab_type": "text"
      },
      "cell_type": "markdown",
      "source": [
        "# wk01\n",
        "## Hello python"
      ]
    },
    {
      "metadata": {
        "id": "lfiMmCyZWIKZ",
        "colab_type": "code",
        "colab": {
          "autoexec": {
            "startup": false,
            "wait_interval": 0
          },
          "base_uri": "https://localhost:8080/",
          "height": 34
        },
        "outputId": "f2ef3dfc-f65a-4837-d734-ce6477a1b819",
        "executionInfo": {
          "status": "ok",
          "timestamp": 1533191910985,
          "user_tz": -540,
          "elapsed": 757,
          "user": {
            "displayName": "Sang Hoon Yi",
            "photoUrl": "//lh6.googleusercontent.com/-_kHPiD6pC6c/AAAAAAAAAAI/AAAAAAAAAGM/allb0FEOJpk/s50-c-k-no/photo.jpg",
            "userId": "107469384124300188670"
          }
        }
      },
      "cell_type": "code",
      "source": [
        "print('Hello python!!!')"
      ],
      "execution_count": 1,
      "outputs": [
        {
          "output_type": "stream",
          "text": [
            "Hello python!!!\n"
          ],
          "name": "stdout"
        }
      ]
    },
    {
      "metadata": {
        "id": "o-OLvDSVTzYZ",
        "colab_type": "code",
        "colab": {
          "autoexec": {
            "startup": false,
            "wait_interval": 0
          }
        }
      },
      "cell_type": "code",
      "source": [
        "a=3\n",
        "b=4\n",
        "c=a+b"
      ],
      "execution_count": 0,
      "outputs": []
    },
    {
      "metadata": {
        "id": "bhsnhmjAT5H7",
        "colab_type": "code",
        "colab": {
          "autoexec": {
            "startup": false,
            "wait_interval": 0
          },
          "base_uri": "https://localhost:8080/",
          "height": 34
        },
        "outputId": "ed68129f-1f68-4a74-b4b7-819626bdb357",
        "executionInfo": {
          "status": "ok",
          "timestamp": 1533191912827,
          "user_tz": -540,
          "elapsed": 831,
          "user": {
            "displayName": "Sang Hoon Yi",
            "photoUrl": "//lh6.googleusercontent.com/-_kHPiD6pC6c/AAAAAAAAAAI/AAAAAAAAAGM/allb0FEOJpk/s50-c-k-no/photo.jpg",
            "userId": "107469384124300188670"
          }
        }
      },
      "cell_type": "code",
      "source": [
        "print(c)"
      ],
      "execution_count": 3,
      "outputs": [
        {
          "output_type": "stream",
          "text": [
            "7\n"
          ],
          "name": "stdout"
        }
      ]
    },
    {
      "metadata": {
        "id": "17Yv-nkzU5DC",
        "colab_type": "code",
        "colab": {
          "autoexec": {
            "startup": false,
            "wait_interval": 0
          }
        }
      },
      "cell_type": "code",
      "source": [
        ""
      ],
      "execution_count": 0,
      "outputs": []
    }
  ]
}