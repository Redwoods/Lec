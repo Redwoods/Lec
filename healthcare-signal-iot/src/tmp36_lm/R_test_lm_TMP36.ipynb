{
 "cells": [
  {
   "cell_type": "markdown",
   "metadata": {},
   "source": [
    "## Linear regression in R --- TMP36"
   ]
  },
  {
   "cell_type": "code",
   "execution_count": 1,
   "metadata": {},
   "outputs": [],
   "source": [
    "tc = c(0, 50)\n",
    "vo = c(500, 1000)"
   ]
  },
  {
   "cell_type": "code",
   "execution_count": 2,
   "metadata": {},
   "outputs": [],
   "source": [
    "df = data.frame(tc, vo)"
   ]
  },
  {
   "cell_type": "code",
   "execution_count": 3,
   "metadata": {},
   "outputs": [
    {
     "data": {
      "text/html": [
       "<table>\n",
       "<thead><tr><th scope=col>tc</th><th scope=col>vo</th></tr></thead>\n",
       "<tbody>\n",
       "\t<tr><td> 0  </td><td> 500</td></tr>\n",
       "\t<tr><td>50  </td><td>1000</td></tr>\n",
       "</tbody>\n",
       "</table>\n"
      ],
      "text/latex": [
       "\\begin{tabular}{r|ll}\n",
       " tc & vo\\\\\n",
       "\\hline\n",
       "\t  0   &  500\\\\\n",
       "\t 50   & 1000\\\\\n",
       "\\end{tabular}\n"
      ],
      "text/markdown": [
       "\n",
       "tc | vo | \n",
       "|---|---|\n",
       "|  0   |  500 | \n",
       "| 50   | 1000 | \n",
       "\n",
       "\n"
      ],
      "text/plain": [
       "  tc vo  \n",
       "1  0  500\n",
       "2 50 1000"
      ]
     },
     "metadata": {},
     "output_type": "display_data"
    }
   ],
   "source": [
    "df"
   ]
  },
  {
   "cell_type": "code",
   "execution_count": 4,
   "metadata": {},
   "outputs": [
    {
     "data": {
      "text/plain": [
       "\n",
       "Call:\n",
       "lm(formula = tc ~ vo, data = df)\n",
       "\n",
       "Coefficients:\n",
       "(Intercept)           vo  \n",
       "      -50.0          0.1  \n"
      ]
     },
     "metadata": {},
     "output_type": "display_data"
    }
   ],
   "source": [
    "lm(tc~vo, data=df)"
   ]
  },
  {
   "cell_type": "code",
   "execution_count": 5,
   "metadata": {},
   "outputs": [],
   "source": [
    "# Tc = -50 + 0.1*Vo"
   ]
  },
  {
   "cell_type": "markdown",
   "metadata": {},
   "source": [
    "## Tc = (Vo - 500)/10"
   ]
  },
  {
   "cell_type": "markdown",
   "metadata": {},
   "source": [
    "#### This is the formula to convert A0 voltage to temperature in TMP36."
   ]
  }
 ],
 "metadata": {
  "kernelspec": {
   "display_name": "R",
   "language": "R",
   "name": "ir"
  },
  "language_info": {
   "codemirror_mode": "r",
   "file_extension": ".r",
   "mimetype": "text/x-r-source",
   "name": "R",
   "pygments_lexer": "r",
   "version": "3.4.3"
  }
 },
 "nbformat": 4,
 "nbformat_minor": 2
}
