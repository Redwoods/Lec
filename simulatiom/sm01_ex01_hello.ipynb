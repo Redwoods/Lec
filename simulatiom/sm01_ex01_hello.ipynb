{
  "nbformat": 4,
  "nbformat_minor": 0,
  "metadata": {
    "colab": {
      "name": "sm01_ex01_hello.ipynb",
      "version": "0.3.2",
      "provenance": [],
      "private_outputs": true,
      "collapsed_sections": [],
      "toc_visible": true,
      "include_colab_link": true
    },
    "kernelspec": {
      "name": "python3",
      "display_name": "Python 3"
    }
  },
  "cells": [
    {
      "cell_type": "markdown",
      "metadata": {
        "id": "view-in-github",
        "colab_type": "text"
      },
      "source": [
        "<a href=\"https://colab.research.google.com/github/Redwoods/Lec/blob/master/simulatiom/sm01_ex01_hello.ipynb\" target=\"_parent\"><img src=\"https://colab.research.google.com/assets/colab-badge.svg\" alt=\"Open In Colab\"/></a>"
      ]
    },
    {
      "cell_type": "markdown",
      "metadata": {
        "id": "ovY5jkD5dpxE",
        "colab_type": "text"
      },
      "source": [
        "## sm01 report 1"
      ]
    },
    {
      "cell_type": "code",
      "metadata": {
        "id": "rUNNaqJPdg7B",
        "colab_type": "code",
        "colab": {}
      },
      "source": [
        "a=1\n",
        "b=2\n",
        "c=a+b\n",
        "print(c)"
      ],
      "execution_count": 0,
      "outputs": []
    },
    {
      "cell_type": "markdown",
      "metadata": {
        "id": "siwkHRVNe2HU",
        "colab_type": "text"
      },
      "source": [
        "#### 문자열 출력"
      ]
    },
    {
      "cell_type": "code",
      "metadata": {
        "id": "GUnXmw86eNeQ",
        "colab_type": "code",
        "colab": {}
      },
      "source": [
        "###########\n",
        "s1=\"Hello Python!\"\n",
        "print(s1)"
      ],
      "execution_count": 0,
      "outputs": []
    },
    {
      "cell_type": "markdown",
      "metadata": {
        "id": "7R9nyGUGe8DS",
        "colab_type": "text"
      },
      "source": [
        "#### list 선언과 출력"
      ]
    },
    {
      "cell_type": "code",
      "metadata": {
        "id": "-lt_b3Y-eaz0",
        "colab_type": "code",
        "colab": {}
      },
      "source": [
        "#################\n",
        "x=[1,2,3]\n",
        "y=[4,5,6]\n",
        "print(x)\n",
        "print(x,y)\n",
        "x+y"
      ],
      "execution_count": 0,
      "outputs": []
    },
    {
      "cell_type": "markdown",
      "metadata": {
        "id": "OpFZDYOYfJbU",
        "colab_type": "text"
      },
      "source": [
        "### 함수 정의와 실행"
      ]
    },
    {
      "cell_type": "code",
      "metadata": {
        "id": "YCinM5qjegrM",
        "colab_type": "code",
        "colab": {}
      },
      "source": [
        "# function\n",
        "def add(a,b):\n",
        "    return a+b\n",
        "#\n",
        "print(add(1,2))\n",
        "print(add(x,y))"
      ],
      "execution_count": 0,
      "outputs": []
    }
  ]
}